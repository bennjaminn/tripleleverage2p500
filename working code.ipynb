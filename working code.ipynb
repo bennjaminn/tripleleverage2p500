{
 "cells": [
  {
   "cell_type": "code",
   "execution_count": 41,
   "id": "initial_id",
   "metadata": {
    "collapsed": true,
    "ExecuteTime": {
     "end_time": "2024-01-14T23:36:36.351184Z",
     "start_time": "2024-01-14T23:36:35.720187Z"
    }
   },
   "outputs": [
    {
     "data": {
      "text/plain": "array([[1.00354466, 0.99872981, 1.00155191, ..., 0.99751166, 1.00858008,\n        0.96877946],\n       [1.02126661, 1.00551292, 0.99118513, ..., 1.00846165, 1.01408624,\n        1.028121  ],\n       [0.98953899, 0.96662566, 1.00399773, ..., 0.99699255, 1.01515711,\n        1.0082787 ],\n       ...,\n       [1.00882295, 0.9868819 , 0.98610551, ..., 1.00844963, 0.93549993,\n        1.01215169],\n       [1.01325124, 1.03995358, 0.93820224, ..., 0.93828362, 1.00201697,\n        0.9770431 ],\n       [1.00044803, 1.0055851 , 0.99254958, ..., 1.00269383, 0.98377118,\n        0.99996949]])"
     },
     "execution_count": 41,
     "metadata": {},
     "output_type": "execute_result"
    }
   ],
   "source": [
    "import pandas as pd\n",
    "import numpy as np\n",
    "import matplotlib.pyplot as plt\n",
    "\n",
    "simulations = np.load('simulations.npy')"
   ]
  },
  {
   "cell_type": "code",
   "execution_count": null,
   "outputs": [],
   "source": [],
   "metadata": {
    "collapsed": false
   },
   "id": "a27dc96f001c304d"
  }
 ],
 "metadata": {
  "kernelspec": {
   "display_name": "Python 3",
   "language": "python",
   "name": "python3"
  },
  "language_info": {
   "codemirror_mode": {
    "name": "ipython",
    "version": 2
   },
   "file_extension": ".py",
   "mimetype": "text/x-python",
   "name": "python",
   "nbconvert_exporter": "python",
   "pygments_lexer": "ipython2",
   "version": "2.7.6"
  }
 },
 "nbformat": 4,
 "nbformat_minor": 5
}
